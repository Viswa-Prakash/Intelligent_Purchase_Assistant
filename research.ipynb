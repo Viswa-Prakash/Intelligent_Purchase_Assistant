{
 "cells": [
  {
   "cell_type": "code",
   "execution_count": 1,
   "id": "7e7fc59f",
   "metadata": {},
   "outputs": [],
   "source": [
    "import os\n",
    "from dotenv import load_dotenv\n",
    "load_dotenv()\n",
    "\n",
    "os.environ[\"OPENAI_API_KEY\"] = os.getenv(\"OPENAI_API_KEY\")\n",
    "os.environ[\"SERPAPI_API_KEY\"] = os.getenv(\"SERPAPI_API_KEY\")\n",
    "alphavantage_api_key = os.getenv(\"ALPHA_VANTAGE_API_KEY\")\n"
   ]
  },
  {
   "cell_type": "code",
   "execution_count": 2,
   "id": "d3f3ad8c",
   "metadata": {},
   "outputs": [],
   "source": [
    "from typing_extensions import TypedDict, Annotated\n",
    "\n",
    "from langchain.chat_models import init_chat_model\n",
    "from langchain.tools import Tool\n",
    "from langchain_community.tools import tool\n",
    "from langchain_core.messages import HumanMessage, AnyMessage\n",
    "\n",
    "from langchain_community.utilities import SerpAPIWrapper\n",
    "from langchain_community.utilities.alpha_vantage import AlphaVantageAPIWrapper\n",
    "from langchain_experimental.tools.python.tool import PythonREPLTool \n",
    "\n",
    "from langgraph.graph import StateGraph, END, START\n",
    "from langgraph.prebuilt import ToolNode\n",
    "from langgraph.graph.message import add_messages\n",
    "\n",
    "from IPython.display import Image, display"
   ]
  },
  {
   "cell_type": "code",
   "execution_count": 3,
   "id": "b79f603d",
   "metadata": {},
   "outputs": [],
   "source": [
    "llm = init_chat_model(\"gpt-4.1\", temperature=0.7)"
   ]
  },
  {
   "cell_type": "code",
   "execution_count": 4,
   "id": "4a426f85",
   "metadata": {},
   "outputs": [],
   "source": [
    "serpapi_tool = Tool(\n",
    "    name=\"serpapi\",\n",
    "    description=\"Optimizes e-commerce purchase flows by analyzing real-time search engine results for product visibility, competitor pricing, and market trends, improving conversion rates.\",\n",
    "    func=SerpAPIWrapper().run,\n",
    ")\n",
    "\n",
    "alpha_vantage_api = AlphaVantageAPIWrapper(alphavantage_api_key=alphavantage_api_key)\n",
    "\n",
    "@tool\n",
    "def currency_tool(from_currency: str, to_currency: str) -> str:\n",
    "    \"\"\"Get exchange rate between two currencies.\"\"\"\n",
    "    return alpha_vantage_api.run(from_currency=from_currency, to_currency=to_currency)\n",
    "\n",
    "repl_tool = PythonREPLTool()\n"
   ]
  },
  {
   "cell_type": "code",
   "execution_count": 5,
   "id": "9a2abc05",
   "metadata": {},
   "outputs": [],
   "source": [
    "# Create the list of properly wrapped Tool instances\n",
    "tools = [serpapi_tool, currency_tool, repl_tool]"
   ]
  },
  {
   "cell_type": "code",
   "execution_count": 6,
   "id": "86e3df94",
   "metadata": {},
   "outputs": [],
   "source": [
    "react_prompt = \"\"\"\n",
    "You are an AI assistant specialized in helping users find the best value when shopping online.\n",
    "\n",
    "You can perform the following actions/tools:\n",
    "- Use a **Product Search Tool** to find current prices, sellers, and offers for the product specified by the user.\n",
    "- Use a **Review Aggregator Tool** to gather and summarize average user ratings or top reviews.\n",
    "- Use a **Currency Converter Tool** to convert prices between currencies.\n",
    "- Use the **Python REPL tool** to perform any calculations, such as total cost, percent savings, or final price with tax.\n",
    "\n",
    "For each request:\n",
    "- ALWAYS break the user’s question into clear subtasks, think out loud about each step, and choose the right tool for each part.\n",
    "- If a step fails, try an alternative approach or suggest other options.\n",
    "\n",
    "When you have completed all necessary tool use and gathered all information:\n",
    "- ALWAYS output a final message that **begins with the phrase \"Final answer:\"** (e.g., `Final answer: The Kindle Paperwhite is cheapest at ...`).\n",
    "- Clearly summarize product(s) found with price, currency conversion, and seller.\n",
    "- State the average user rating (if available).\n",
    "- Calculate the total estimated cost in the user's preferred currency, including conversion and any important fees.\n",
    "- Give brief advice or next steps, for example: \"You may want to check warranty terms from overseas sellers.\"\n",
    "\n",
    "**Do not give your final answer until all required tools have been used. Your very last message must always begin with \"Final answer:\".**\n",
    "\"\"\"\n"
   ]
  },
  {
   "cell_type": "code",
   "execution_count": 7,
   "id": "4c58de5e",
   "metadata": {},
   "outputs": [],
   "source": [
    "class State(TypedDict):\n",
    "    messages : Annotated[list[AnyMessage], add_messages]"
   ]
  },
  {
   "cell_type": "code",
   "execution_count": 8,
   "id": "f689c5f7",
   "metadata": {},
   "outputs": [],
   "source": [
    "def reasoning_node(state: State):\n",
    "    # LLM with bound tools to enable tool-calling\n",
    "    llm_with_tools = llm.bind_tools(tools)\n",
    "    messages = [{\"role\": \"system\", \"content\": react_prompt}] + state[\"messages\"]\n",
    "    response = llm_with_tools.invoke(messages)\n",
    "    return {\"messages\": state[\"messages\"] + [response]}"
   ]
  },
  {
   "cell_type": "code",
   "execution_count": 9,
   "id": "c5b9d83e",
   "metadata": {},
   "outputs": [],
   "source": [
    "tool_node = ToolNode(tools = tools)"
   ]
  },
  {
   "cell_type": "code",
   "execution_count": 10,
   "id": "c98cee6f",
   "metadata": {},
   "outputs": [],
   "source": [
    "def should_continue(state: State):\n",
    "    last_message = state[\"messages\"][-1]\n",
    "    if hasattr(last_message, \"content\") and \"final answer:\" in last_message.content.lower():\n",
    "        return \"end\"\n",
    "    if hasattr(last_message, \"tool_calls\") and last_message.tool_calls:\n",
    "        return \"continue\"\n",
    "    if len(state[\"messages\"]) > 20:\n",
    "        return \"end\"\n",
    "    # Otherwise, no tool_calls, not a final answer, so end gracefully\n",
    "    return \"end\""
   ]
  },
  {
   "cell_type": "code",
   "execution_count": 11,
   "id": "329eba27",
   "metadata": {},
   "outputs": [
    {
     "data": {
      "image/png": "[encoded data removed]",
      "text/plain": [
       "<IPython.core.display.Image object>"
      ]
     },
     "metadata": {},
     "output_type": "display_data"
    }
   ],
   "source": [
    "builder = StateGraph(State)\n",
    "builder.add_node(\"reason\", reasoning_node)\n",
    "builder.add_node(\"action\", tool_node)\n",
    "builder.set_entry_point(\"reason\")\n",
    "builder.add_conditional_edges(\n",
    "    \"reason\",\n",
    "    should_continue,\n",
    "    {\n",
    "        \"continue\": \"action\",\n",
    "        \"end\": END,\n",
    "    }\n",
    ")\n",
    "builder.add_edge(\"action\", \"reason\")\n",
    "ecommerce_agent = builder.compile()\n",
    "\n",
    "display(Image(ecommerce_agent.get_graph().draw_mermaid_png()))"
   ]
  },
  {
   "cell_type": "code",
   "execution_count": 12,
   "id": "54f5219d",
   "metadata": {},
   "outputs": [
    {
     "name": "stderr",
     "output_type": "stream",
     "text": [
      "Python REPL can execute arbitrary code. Use with caution.\n"
     ]
    },
    {
     "name": "stdout",
     "output_type": "stream",
     "text": [
      "Here's what I found:\n",
      "\n",
      "1. Best Price: The lowest recent online price for the Sony WH-1000XM5 headphones is around $279.99–$296.00 USD (approx. €260–€275), but your specified purchase is €350 from the US.\n",
      "2. Average User Rating: The Sony WH-1000XM5 headphones have an average user rating of about 4.3 out of 5 stars, based on over 11,000 reviews. Reviews highlight excellent noise cancellation, great battery life (~27 hours), and strong sound/call quality.\n",
      "3. Import Tax to Germany: For a purchase price of €350, the 19% German VAT (import tax) would be €66.50, making the total estimated cost €416.50. There are no additional customs duties for headphones, just the VAT.\n",
      "\n",
      "Final answer: The Sony WH-1000XM5 headphones are available online for as low as $279.99–$296.00 USD (~€260–€275), but if you buy from the US for €350, you’ll pay approximately €66.50 in German VAT, totaling €416.50. The headphones have an average user rating of 4.3/5. Double-check warranty coverage for international purchases, and consider buying from EU sellers to avoid import taxes.\n"
     ]
    }
   ],
   "source": [
    "query = (\"\"\"\n",
    "         Find me the best price for ‘Sony WH-1000XM5’ headphones online. \n",
    "         What’s the average user rating, and if I buy from the US for €350, \n",
    "         how much is the import tax to Germany\n",
    "         \"\"\")\n",
    "\n",
    "state = {\"messages\": [HumanMessage(content=query)]}\n",
    "result = ecommerce_agent.invoke(state)\n",
    "\n",
    "print(result[\"messages\"][-1].content)\n"
   ]
  },
  {
   "cell_type": "code",
   "execution_count": 13,
   "id": "0e6e6055",
   "metadata": {},
   "outputs": [
    {
     "name": "stdout",
     "output_type": "stream",
     "text": [
      "Here’s the full summary of findings:\n",
      "\n",
      "1. Cheapest Kindle Paperwhite (latest model) prices:\n",
      "   - Amazon US: $139.99 USD (brand new, sold and fulfilled by Amazon)\n",
      "   - Amazon India: ₹16,999 INR (brand new, sold and fulfilled by Amazon.in)\n",
      "   - Flipkart: ₹16,999 INR (brand new, matches Amazon India)\n",
      "\n",
      "2. Currency conversion:\n",
      "   - $139.99 USD ≈ ₹12,277 INR (using the current exchange rate 1 USD ≈ 87.7 INR)\n",
      "   - The US price is cheaper by approximately ₹4,700 INR compared to the Indian price.\n",
      "\n",
      "3. Average user rating:\n",
      "   - Kindle Paperwhite typically has an excellent average rating of around 4.5 out of 5 stars on major sites like Amazon.\n",
      "\n",
      "4. Additional notes:\n",
      "   - Buying from the US may incur shipping fees, import duties, or warranty limitations if imported to India.\n",
      "   - If you are in India, buying from Amazon India or Flipkart guarantees local warranty and support.\n",
      "\n",
      "Final answer: The Kindle Paperwhite is cheapest at Amazon US for $139.99 USD (about ₹12,277 INR converted), compared to ₹16,999 INR on Amazon India and Flipkart. The average user rating is around 4.5/5 stars. If buying from the US, check shipping, taxes, and warranty terms for your location. If you need local support in India, buying from Amazon India or Flipkart is safest but more expensive.\n"
     ]
    }
   ],
   "source": [
    "query = (\"Find me the cheapest place to buy the Kindle Paperwhite in USD and INR.\")\n",
    "\n",
    "state = {\"messages\": [HumanMessage(content=query)]}\n",
    "result = ecommerce_agent.invoke(state)\n",
    "\n",
    "print(result[\"messages\"][-1].content)\n"
   ]
  },
  {
   "cell_type": "code",
   "execution_count": null,
   "id": "32509a14",
   "metadata": {},
   "outputs": [],
   "source": []
  }
 ],
 "metadata": {
  "kernelspec": {
   "display_name": "reactagent",
   "language": "python",
   "name": "python3"
  },
  "language_info": {
   "codemirror_mode": {
    "name": "ipython",
    "version": 3
   },
   "file_extension": ".py",
   "mimetype": "text/x-python",
   "name": "python",
   "nbconvert_exporter": "python",
   "pygments_lexer": "ipython3",
   "version": "3.13.0"
  }
 },
 "nbformat": 4,
 "nbformat_minor": 5
}
